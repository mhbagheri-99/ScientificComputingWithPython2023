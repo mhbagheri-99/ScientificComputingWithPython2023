{
  "cells": [
    {
      "cell_type": "markdown",
      "metadata": {
        "id": "dG_BK9jJEpYw"
      },
      "source": [
        "# Game of Life\n",
        "\n",
        "\n",
        "The [Game of Life](http://en.wikipedia.org/wiki/Conway's_Game_of_Life) (GoF) is a cellular automaton devised by the British mathematician John Horton Conway in 1970. The game is a zero-player game, meaning that its evolution is determined by its initial state, requiring no further input. One interacts with the Game of Life by creating an initial configuration and observing how it evolves, or, for advanced players, by creating patterns with particular properties.\n",
        "\n",
        "The universe of the Game of Life is an infinite two-dimensional orthogonal grid of square cells, each of which is in one of two possible states, live or dead. Every cell interacts with its eight neighbours, which are the cells that are directly horizontally, vertically, or diagonally adjacent. At each step in time, the following transitions occur:\n",
        "\n",
        "* Any live cell with fewer than two live neighbours dies, as if by underpopulation.\n",
        "* Any live cell with more than three live neighbours dies, as if by overcrowding.\n",
        "* Any live cell with two or three live neighbours lives, unchanged, to the next generation.\n",
        "* Any dead cell with exactly three live neighbours becomes a live cell.\n",
        "\n",
        "The initial pattern (generation 0) constitutes the \"seed\" of the system.\n",
        "Time is considered discrete, and each time step (sometimes called a tick), the previous rules are applied simultaneously to every cell in the grid; \"births\" and \"deaths\" are immediate.\n",
        "Each generation is a pure function of the previous generation alone.\n",
        "\n",
        "\n",
        "## Assignments\n",
        "\n",
        "* Begin by implementing the GoF's rules and create few examples with basic seeds in small dimensions. Hint: create `.gif` animations from sequences of still `.png` images\n",
        "* Implement examples of the three categories of patterns *still lifes*, *oscillators* and *spaceships* (check the [wiki link](http://en.wikipedia.org/wiki/Conway's_Game_of_Life))\n",
        "* Analyse the evolutions of these patterns in terms of frequency (the number of cycles required to return to the original configuration, if any), occupancy (how many alive cells there are at every step of the game), replication or heat (the average number of cells that change state at each generation), speed (if applicable), etc.\n",
        "* Increase the size of the GoF's world and play with more advanced and complex patterns"
      ]
    },
    {
      "cell_type": "markdown",
      "source": [
        "Here we have defined the rules of GoF in our function that takes the grid (initial seed) and number of generations which is how many levels we want to proceed."
      ],
      "metadata": {
        "id": "Y_7TqzbJUAc7"
      }
    },
    {
      "cell_type": "code",
      "execution_count": 6,
      "metadata": {
        "id": "25qWwAHaEpYx"
      },
      "outputs": [],
      "source": [
        "import numpy as np\n",
        "import PIL as p\n",
        "from PIL import Image\n",
        "from IPython.display import Image, display\n",
        "\n",
        "def game_of_life(grid, num_generations):\n",
        "    generations = [grid]\n",
        "    for _ in range(num_generations):\n",
        "        # Create a copy of the current grid\n",
        "        next_grid = np.copy(grid)\n",
        "\n",
        "        # Iterate over each cell in the grid\n",
        "        for i in range(grid.shape[0]):\n",
        "            for j in range(grid.shape[1]):\n",
        "                # Count the number of live neighbors\n",
        "                live_neighbors = np.sum(grid[max(0, i-1):min(i+2, grid.shape[0]), max(0, j-1):min(j+2, grid.shape[1])]) - grid[i, j]\n",
        "\n",
        "                # Apply the rules of the Game of Life\n",
        "                if grid[i, j] == 1 and (live_neighbors < 2 or live_neighbors > 3):\n",
        "                    next_grid[i, j] = 0\n",
        "                elif grid[i, j] == 0 and live_neighbors == 3:\n",
        "                    next_grid[i, j] = 1\n",
        "\n",
        "        # Update the grid for the next generation\n",
        "        grid = next_grid\n",
        "        generations.append(grid)\n",
        "\n",
        "    return generations\n"
      ]
    },
    {
      "cell_type": "markdown",
      "source": [
        "Defined a function that takes the GoF function paramateres as well as"
      ],
      "metadata": {
        "id": "Id6cx7pMlwjE"
      }
    },
    {
      "cell_type": "code",
      "source": [
        "def visualize_and_save(pattern, num_generations, filename_prefix):\n",
        "    generations = game_of_life(pattern, num_generations)\n",
        "\n",
        "    # Export each generation as a .png image\n",
        "    for i, generation in enumerate(generations):\n",
        "        image = p.Image.fromarray((generation * 255).astype(np.uint8))\n",
        "        image.save(f'{filename_prefix}_generation_{i}.png')\n",
        "\n",
        "    # Create a sequence with .gif format\n",
        "    images = [p.Image.open(f'{filename_prefix}_generation_{i}.png') for i in range(len(generations))]\n",
        "    images[0].save(f'{filename_prefix}_animation.gif', format=\"GIF\", append_images=images[1:], save_all=True, duration=400, loop=0)\n",
        "\n",
        "    # Display the GIF\n",
        "    display(Image(filename='grid_animation.gif', width=500))\n"
      ],
      "metadata": {
        "id": "Wq1f38Jfluyp"
      },
      "execution_count": 10,
      "outputs": []
    },
    {
      "cell_type": "markdown",
      "source": [
        "A very simple (blinking in this case) example with 10 iterations."
      ],
      "metadata": {
        "id": "ofwUw0tfUBYq"
      }
    },
    {
      "cell_type": "code",
      "source": [
        "# Example usage\n",
        "grid = np.array([[0, 0, 0, 0, 0],\n",
        "                 [0, 0, 1, 0, 0],\n",
        "                 [0, 0, 1, 0, 0],\n",
        "                 [0, 0, 1, 0, 0],\n",
        "                 [0, 0, 0, 0, 0]])\n",
        "\n",
        "visualize_and_save(grid,10,'grid/grid')"
      ],
      "metadata": {
        "id": "R5tgp2gaT57x",
        "colab": {
          "base_uri": "https://localhost:8080/",
          "height": 517
        },
        "outputId": "3e9d7e96-d996-4424-c9e5-974c1fcde1cc"
      },
      "execution_count": 11,
      "outputs": [
        {
          "output_type": "display_data",
          "data": {
            "image/gif": "[encoded data removed]",
            "text/plain": [
              "<IPython.core.display.Image object>"
            ]
          },
          "metadata": {
            "image/gif": {
              "width": 500
            }
          }
        }
      ]
    },
    {
      "cell_type": "markdown",
      "source": [
        "Examples in *still lifes*, *oscillators* and *spaceships* categories:"
      ],
      "metadata": {
        "id": "qjSp_k2wUCS7"
      }
    },
    {
      "cell_type": "code",
      "source": [],
      "metadata": {
        "id": "4e90k84NT8zo"
      },
      "execution_count": null,
      "outputs": []
    }
  ],
  "metadata": {
    "kernelspec": {
      "display_name": "Python 3",
      "language": "python",
      "name": "python3"
    },
    "language_info": {
      "codemirror_mode": {
        "name": "ipython",
        "version": 3
      },
      "file_extension": ".py",
      "mimetype": "text/x-python",
      "name": "python",
      "nbconvert_exporter": "python",
      "pygments_lexer": "ipython3",
      "version": "3.8.5"
    },
    "colab": {
      "provenance": []
    }
  },
  "nbformat": 4,
  "nbformat_minor": 0
}